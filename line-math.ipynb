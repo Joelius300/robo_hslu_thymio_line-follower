{
 "cells": [
  {
   "cell_type": "code",
   "execution_count": null,
   "id": "b764f7f0-f17b-4971-97fd-43363bb3c9ee",
   "metadata": {},
   "outputs": [],
   "source": [
    "from ipywidgets import interact, IntSlider, FloatSlider\n",
    "from IPython.display import display\n",
    "import numpy as np\n",
    "import matplotlib.pyplot as plt\n",
    "import math"
   ]
  },
  {
   "cell_type": "code",
   "execution_count": null,
   "id": "10c45e72-215f-49b3-b28a-a0e1e6cde8f3",
   "metadata": {},
   "outputs": [],
   "source": [
    "def exponential_curve(steps: int, stop: float, log_base: float):\n",
    "        base = math.log(steps, log_base)\n",
    "        points = [math.floor(stop / math.pow(base, i)) for i in range(steps)]\n",
    "        points.reverse()\n",
    "        return points"
   ]
  },
  {
   "cell_type": "code",
   "execution_count": null,
   "id": "b0321ca0-c686-43a3-b8f9-ae4b8dadddde",
   "metadata": {},
   "outputs": [],
   "source": [
    "speed_widget = IntSlider(\n",
    "    min=50,\n",
    "    max=150,\n",
    "    step=5,\n",
    "    description='Speed:',\n",
    "    value=100\n",
    ")"
   ]
  },
  {
   "cell_type": "code",
   "execution_count": null,
   "id": "e251ad96-c7a2-4c7c-9c37-22bd1838755b",
   "metadata": {},
   "outputs": [],
   "source": [
    "steps_widget = IntSlider(\n",
    "    min=10,\n",
    "    max=100,\n",
    "    step=5,\n",
    "    description='Steps:',\n",
    "    value=30\n",
    ")"
   ]
  },
  {
   "cell_type": "code",
   "execution_count": null,
   "id": "13bc318d-ebe3-4252-ad66-d8d9452e36a0",
   "metadata": {},
   "outputs": [],
   "source": [
    "log_base_widget = FloatSlider(\n",
    "    min=0,\n",
    "    max=100,\n",
    "    step=.5,\n",
    "    description='Log base:',\n",
    "    value=20\n",
    ")"
   ]
  },
  {
   "cell_type": "code",
   "execution_count": null,
   "id": "8dabec76-7e4f-4242-856c-2969f3a044bd",
   "metadata": {},
   "outputs": [],
   "source": [
    "def plot(steps, speed, log_base):\n",
    "    x = np.array(range(steps))\n",
    "    y = np.array(exponential_curve(steps, abs(speed * 1.2), log_base))\n",
    "    plt.plot(x, y)"
   ]
  },
  {
   "cell_type": "code",
   "execution_count": null,
   "id": "e9a56f32-4480-48c7-b3d9-6cd016587a80",
   "metadata": {},
   "outputs": [],
   "source": [
    "interact(plot, steps=steps_widget, speed=speed_widget, log_base=log_base_widget)"
   ]
  },
  {
   "cell_type": "code",
   "execution_count": null,
   "id": "3416bc03-ffb1-48f6-9107-f6e1a9282e34",
   "metadata": {},
   "outputs": [],
   "source": []
  }
 ],
 "metadata": {
  "kernelspec": {
   "display_name": "Python 3 (ipykernel)",
   "language": "python",
   "name": "python3"
  },
  "language_info": {
   "codemirror_mode": {
    "name": "ipython",
    "version": 3
   },
   "file_extension": ".py",
   "mimetype": "text/x-python",
   "name": "python",
   "nbconvert_exporter": "python",
   "pygments_lexer": "ipython3",
   "version": "3.10.7"
  }
 },
 "nbformat": 4,
 "nbformat_minor": 5
}

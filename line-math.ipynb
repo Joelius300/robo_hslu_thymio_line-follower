{
 "cells": [
  {
   "cell_type": "code",
   "execution_count": null,
   "id": "b764f7f0-f17b-4971-97fd-43363bb3c9ee",
   "metadata": {},
   "outputs": [],
   "source": [
    "from ipywidgets import interact, IntSlider, FloatSlider\n",
    "from IPython.display import display\n",
    "import numpy as np\n",
    "import matplotlib.pyplot as plt\n",
    "import math"
   ]
  },
  {
   "cell_type": "code",
   "execution_count": null,
   "id": "10c45e72-215f-49b3-b28a-a0e1e6cde8f3",
   "metadata": {},
   "outputs": [],
   "source": [
    "def exponential_curve(steps: int, stop: float, log_base: float):\n",
    "        base = math.log(steps, log_base)\n",
    "        points = [math.floor(stop / math.pow(base, i)) for i in range(steps)]\n",
    "        points.reverse()\n",
    "        return points"
   ]
  },
  {
   "cell_type": "code",
   "execution_count": null,
   "id": "b0321ca0-c686-43a3-b8f9-ae4b8dadddde",
   "metadata": {},
   "outputs": [],
   "source": [
    "def speed_widget():\n",
    "    return IntSlider(\n",
    "        min=0,\n",
    "        max=500,\n",
    "        step=5,\n",
    "        description='Speed:',\n",
    "        value=100\n",
    "    )"
   ]
  },
  {
   "cell_type": "code",
   "execution_count": null,
   "id": "e251ad96-c7a2-4c7c-9c37-22bd1838755b",
   "metadata": {},
   "outputs": [],
   "source": [
    "def steps_widget():\n",
    "    return IntSlider(\n",
    "        min=10,\n",
    "        max=100,\n",
    "        step=5,\n",
    "        description='Steps:',\n",
    "        value=30\n",
    "    )"
   ]
  },
  {
   "cell_type": "code",
   "execution_count": null,
   "id": "13bc318d-ebe3-4252-ad66-d8d9452e36a0",
   "metadata": {},
   "outputs": [],
   "source": [
    "def log_base_widget():\n",
    "    return FloatSlider(\n",
    "        min=0,\n",
    "        max=100,\n",
    "        step=.5,\n",
    "        description='Log base:',\n",
    "        value=20\n",
    "    )"
   ]
  },
  {
   "cell_type": "code",
   "execution_count": null,
   "id": "0597899a-9871-49cf-9e4a-66c84eb748df",
   "metadata": {},
   "outputs": [],
   "source": [
    "def reflection_diff_widget():\n",
    "    return IntSlider(\n",
    "        min=-1000,\n",
    "        max=1000,\n",
    "        step=10,\n",
    "        description='Reflection diff:',\n",
    "        value=0\n",
    "    )"
   ]
  },
  {
   "cell_type": "code",
   "execution_count": null,
   "id": "fb5b4aa2-a4ed-4b29-88d7-bcabf9830277",
   "metadata": {},
   "outputs": [],
   "source": [
    "def max_darkness_widget():\n",
    "    return IntSlider(\n",
    "        min=100,\n",
    "        max=1000,\n",
    "        step=50,\n",
    "        description='Max darkness:',\n",
    "        value=700\n",
    "    )"
   ]
  },
  {
   "cell_type": "code",
   "execution_count": null,
   "id": "badca20d-c652-4a5d-9204-17949168c0e3",
   "metadata": {},
   "outputs": [],
   "source": [
    "def min_darkness_widget():\n",
    "    return IntSlider(\n",
    "        min=0,\n",
    "        max=1000,\n",
    "        step=10,\n",
    "        description='Min darkness:',\n",
    "        value=50\n",
    "    )"
   ]
  },
  {
   "cell_type": "code",
   "execution_count": null,
   "id": "ff4e7a22-3f26-4a85-80a3-44cdcbbd8681",
   "metadata": {},
   "outputs": [],
   "source": [
    "def steer_to_speed_reduction_curve_x(steer, curve_steps, min_darkness, max_darkness):\n",
    "    steer = abs(steer)\n",
    "    if steer > max_darkness:\n",
    "        steer = max_darkness\n",
    "    ratio = (curve_steps - 1) / (max_darkness - min_darkness)\n",
    "    return math.floor(abs((steer - min_darkness) * ratio))"
   ]
  },
  {
   "cell_type": "code",
   "execution_count": null,
   "id": "8dabec76-7e4f-4242-856c-2969f3a044bd",
   "metadata": {},
   "outputs": [],
   "source": [
    "def plot(steps, speed, log_base, reflection_diff, min_darkness, max_darkness):\n",
    "    x = np.array(range(steps))\n",
    "    y = np.array(exponential_curve(steps, abs(speed * 1.2), log_base))\n",
    "    plt.plot(x, y)\n",
    "    plt.vlines(steer_to_speed_reduction_curve_x(reflection_diff, steps, min_darkness, max_darkness), 0, 200)"
   ]
  },
  {
   "cell_type": "code",
   "execution_count": null,
   "id": "e9a56f32-4480-48c7-b3d9-6cd016587a80",
   "metadata": {},
   "outputs": [],
   "source": [
    "interact(plot, steps=steps_widget(), speed=speed_widget(), log_base=log_base_widget(), reflection_diff=reflection_diff_widget(), min_darkness=min_darkness_widget(), max_darkness=max_darkness_widget())"
   ]
  },
  {
   "cell_type": "code",
   "execution_count": null,
   "id": "3416bc03-ffb1-48f6-9107-f6e1a9282e34",
   "metadata": {},
   "outputs": [],
   "source": [
    "def plot_simple(speed, reflection_diff, min_darkness, max_darkness):\n",
    "    max_speed_reduction_percentage = .75\n",
    "    max_reflection_diff = max_darkness - min_darkness\n",
    "    \n",
    "    # x = np.linspace(0, max_darkness - min_darkness, 100)\n",
    "    x = np.linspace(0, 1, 1000)\n",
    "    # y = np.power(1.01, x)\n",
    "    # y = np.exp(x) - 1\n",
    "    y = x ** 3\n",
    "    y = (y / y.max())\n",
    "    \n",
    "    # x: 0-1 linear\n",
    "    # y: 0-1 ^4\n",
    "    \n",
    "    x = x * max_reflection_diff\n",
    "    y = y * max_speed_reduction_percentage\n",
    "    \n",
    "    # x: 0 - (max_darkness - min_darkness) linear\n",
    "    # y: 0 - .75 ^4\n",
    "    \n",
    "    # y = np.array(exponential_curve(steps, abs(speed * 1.2), log_base))\n",
    "    plt.plot(x, y)\n",
    "    # plt.vlines([reflection_diff, -reflection_diff], [0, -max_speed_reduction_percentage], [max_speed_reduction_percentage, 0])\n",
    "    plt.vlines(abs(reflection_diff), 0, max_speed_reduction_percentage)"
   ]
  },
  {
   "cell_type": "code",
   "execution_count": null,
   "id": "49819fe7-6d78-40af-b55c-3cf4ac21ee79",
   "metadata": {},
   "outputs": [],
   "source": [
    "interact(plot_simple, speed=speed_widget(), reflection_diff=reflection_diff_widget(), min_darkness=min_darkness_widget(), max_darkness=max_darkness_widget())"
   ]
  },
  {
   "cell_type": "code",
   "execution_count": null,
   "id": "d71e5b5b-cb32-4777-a754-982fab218023",
   "metadata": {},
   "outputs": [],
   "source": []
  }
 ],
 "metadata": {
  "kernelspec": {
   "display_name": "Python 3 (ipykernel)",
   "language": "python",
   "name": "python3"
  },
  "language_info": {
   "codemirror_mode": {
    "name": "ipython",
    "version": 3
   },
   "file_extension": ".py",
   "mimetype": "text/x-python",
   "name": "python",
   "nbconvert_exporter": "python",
   "pygments_lexer": "ipython3",
   "version": "3.10.7"
  }
 },
 "nbformat": 4,
 "nbformat_minor": 5
}

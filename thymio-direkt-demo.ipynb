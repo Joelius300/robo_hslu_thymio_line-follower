{
 "cells": [
  {
   "cell_type": "code",
   "execution_count": null,
   "id": "00f3a61f",
   "metadata": {},
   "outputs": [],
   "source": [
    "from thymiodirect import Connection\n",
    "from thymiodirect import Thymio"
   ]
  },
  {
   "cell_type": "code",
   "execution_count": null,
   "id": "59b1aeba",
   "metadata": {},
   "outputs": [],
   "source": [
    "port = \"COM8:\""
   ]
  },
  {
   "cell_type": "code",
   "execution_count": null,
   "id": "5093ac40",
   "metadata": {},
   "outputs": [],
   "source": [
    "th = Thymio (serial_port = port, on_connect = lambda id: print (f\"{id} is connected\"), refreshing_rate = 0.05, refreshing_coverage = {\"prox.horizontal\"})\n",
    "th.connect()"
   ]
  },
  {
   "cell_type": "code",
   "execution_count": null,
   "id": "6b016f7b",
   "metadata": {},
   "outputs": [],
   "source": [
    "id = th.first_node()"
   ]
  },
  {
   "cell_type": "code",
   "execution_count": null,
   "id": "aa2feff9",
   "metadata": {},
   "outputs": [],
   "source": [
    "th [id] [\"leds.top\"] = [32, 32, 32]"
   ]
  },
  {
   "cell_type": "code",
   "execution_count": null,
   "id": "0c77d83d",
   "metadata": {},
   "outputs": [],
   "source": [
    "th [id] [\"motor.left.target\"] = 0"
   ]
  },
  {
   "cell_type": "code",
   "execution_count": null,
   "id": "5d05ff84",
   "metadata": {},
   "outputs": [],
   "source": [
    "def f (id):\n",
    "    print (th [id] [\"prox.horizontal\"], end = \"          \\r\")"
   ]
  },
  {
   "cell_type": "code",
   "execution_count": null,
   "id": "68981917",
   "metadata": {},
   "outputs": [],
   "source": [
    "print (th [id] [\"prox.horizontal\"])"
   ]
  },
  {
   "cell_type": "code",
   "execution_count": null,
   "id": "5c701118",
   "metadata": {},
   "outputs": [],
   "source": [
    "th.set_variable_observer (id, f)"
   ]
  },
  {
   "cell_type": "code",
   "execution_count": null,
   "id": "1264a64e",
   "metadata": {},
   "outputs": [],
   "source": []
  }
 ],
 "metadata": {
  "kernelspec": {
   "display_name": "Python 3 (ipykernel)",
   "language": "python",
   "name": "python3"
  },
  "language_info": {
   "codemirror_mode": {
    "name": "ipython",
    "version": 3
   },
   "file_extension": ".py",
   "mimetype": "text/x-python",
   "name": "python",
   "nbconvert_exporter": "python",
   "pygments_lexer": "ipython3",
   "version": "3.9.12"
  }
 },
 "nbformat": 4,
 "nbformat_minor": 5
}
